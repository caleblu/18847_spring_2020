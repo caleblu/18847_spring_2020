{
 "cells": [
  {
   "cell_type": "code",
   "execution_count": 1,
   "metadata": {},
   "outputs": [],
   "source": [
    "from simulation import  *"
   ]
  },
  {
   "cell_type": "code",
   "execution_count": null,
   "metadata": {},
   "outputs": [],
   "source": []
  },
  {
   "cell_type": "code",
   "execution_count": 2,
   "metadata": {},
   "outputs": [],
   "source": [
    "simulation = Simulation()\n",
    "corpus = Corpus()"
   ]
  },
  {
   "cell_type": "code",
   "execution_count": 3,
   "metadata": {},
   "outputs": [],
   "source": [
    "sentences = simulation.construct_sentences()\n",
    "tokens = corpus.tokenize(sentences)"
   ]
  },
  {
   "cell_type": "code",
   "execution_count": 4,
   "metadata": {},
   "outputs": [
    {
     "output_type": "execute_result",
     "data": {
      "text/plain": "ts near the lamp . <eos> <eos>',\n '<sos> <sos> the dog rests near the computer . <eos> <eos>',\n '<sos> <sos> the dog rests near the keyboards . <eos> <eos>',\n '<sos> <sos> the dog rests behind the table . <eos> <eos>',\n '<sos> <sos> the dog rests behind the chair . <eos> <eos>',\n '<sos> <sos> the dog rests behind the sofa . <eos> <eos>',\n '<sos> <sos> the dog rests behind the mat . <eos> <eos>',\n '<sos> <sos> the dog rests behind the tv . <eos> <eos>',\n '<sos> <sos> the dog rests behind the dresser . <eos> <eos>',\n '<sos> <sos> the dog rests behind the shelf . <eos> <eos>',\n '<sos> <sos> the dog rests behind the couch . <eos> <eos>',\n '<sos> <sos> the dog rests behind the desk . <eos> <eos>',\n '<sos> <sos> the dog rests behind the lamp . <eos> <eos>',\n '<sos> <sos> the dog rests behind the computer . <eos> <eos>',\n '<sos> <sos> the dog rests behind the keyboards . <eos> <eos>',\n '<sos> <sos> the dog sleeps on the table . <eos> <eos>',\n '<sos> <sos> the dog sleeps on the chair . <eos> <eos>',\n '<sos> <sos> the dog sleeps on the sofa . <eos> <eos>',\n '<sos> <sos> the dog sleeps on the mat . <eos> <eos>',\n '<sos> <sos> the dog sleeps on the tv . <eos> <eos>',\n '<sos> <sos> the dog sleeps on the dresser . <eos> <eos>',\n '<sos> <sos> the dog sleeps on the shelf . <eos> <eos>',\n '<sos> <sos> the dog sleeps on the couch . <eos> <eos>',\n '<sos> <sos> the dog sleeps on the desk . <eos> <eos>',\n '<sos> <sos> the dog sleeps on the lamp . <eos> <eos>',\n '<sos> <sos> the dog sleeps on the computer . <eos> <eos>',\n '<sos> <sos> the dog sleeps on the keyboards . <eos> <eos>',\n '<sos> <sos> the dog sleeps by the table . <eos> <eos>',\n '<sos> <sos> the dog sleeps by the chair . <eos> <eos>',\n '<sos> <sos> the dog sleeps by the sofa . <eos> <eos>',\n '<sos> <sos> the dog sleeps by the mat . <eos> <eos>',\n '<sos> <sos> the dog sleeps by the tv . <eos> <eos>',\n '<sos> <sos> the dog sleeps by the dresser . <eos> <eos>',\n '<sos> <sos> the dog sleeps by the shelf . <eos> <eos>',\n '<sos> <sos> the dog sleeps by the couch . <eos> <eos>',\n '<sos> <sos> the dog sleeps by the desk . <eos> <eos>',\n '<sos> <sos> the dog sleeps by the lamp . <eos> <eos>',\n '<sos> <sos> the dog sleeps by the computer . <eos> <eos>',\n '<sos> <sos> the dog sleeps by the keyboards . <eos> <eos>',\n '<sos> <sos> the dog sleeps near the table . <eos> <eos>',\n '<sos> <sos> the dog sleeps near the chair . <eos> <eos>',\n '<sos> <sos> the dog sleeps near the sofa . <eos> <eos>',\n '<sos> <sos> the dog sleeps near the mat . <eos> <eos>',\n '<sos> <sos> the dog sleeps near the tv . <eos> <eos>',\n '<sos> <sos> the dog sleeps near the dresser . <eos> <eos>',\n '<sos> <sos> the dog sleeps near the shelf . <eos> <eos>',\n '<sos> <sos> the dog sleeps near the couch . <eos> <eos>',\n '<sos> <sos> the dog sleeps near the desk . <eos> <eos>',\n '<sos> <sos> the dog sleeps near the lamp . <eos> <eos>',\n '<sos> <sos> the dog sleeps near the computer . <eos> <eos>',\n '<sos> <sos> the dog sleeps near the keyboards . <eos> <eos>',\n '<sos> <sos> the dog sleeps behind the table . <eos> <eos>',\n '<sos> <sos> the dog sleeps behind the chair . <eos> <eos>',\n '<sos> <sos> the dog sleeps behind the sofa . <eos> <eos>',\n '<sos> <sos> the dog sleeps behind the mat . <eos> <eos>',\n '<sos> <sos> the dog sleeps behind the tv . <eos> <eos>',\n '<sos> <sos> the dog sleeps behind the dresser . <eos> <eos>',\n '<sos> <sos> the dog sleeps behind the shelf . <eos> <eos>',\n '<sos> <sos> the dog sleeps behind the couch . <eos> <eos>',\n '<sos> <sos> the dog sleeps behind the desk . <eos> <eos>',\n '<sos> <sos> the dog sleeps behind the lamp . <eos> <eos>',\n '<sos> <sos> the dog sleeps behind the computer . <eos> <eos>',\n '<sos> <sos> the dog sleeps behind the keyboards . <eos> <eos>',\n '<sos> <sos> the dog laughs on the table . <eos> <eos>',\n '<sos> <sos> the dog laughs on the chair . <eos> <eos>',\n '<sos> <sos> the dog laughs on the sofa . <eos> <eos>',\n '<sos> <sos> the dog laughs on the mat . <eos> <eos>',\n '<sos> <sos> the dog laughs on the tv . <eos> <eos>',\n '<sos> <sos> the dog laughs on the dresser . <eos> <eos>',\n '<sos> <sos> the dog laughs on the shelf . <eos> <eos>',\n '<sos> <sos> the dog laughs on the couch . <eos> <eos>',\n '<sos> <sos> the dog laughs on the desk . <eos> <eos>',\n '<sos> <sos> the dog laughs on the lamp . <eos> <eos>',\n '<sos> <sos> the dog laughs on the computer . <eos> <eos>',\n '<sos> <sos> the dog laughs on the keyboards . <eos> <eos>',\n '<sos> <sos> the dog laughs by the table . <eos> <eos>',\n '<sos> <sos> the dog laughs by the chair . <eos> <eos>',\n '<sos> <sos> the dog laughs by the sofa . <eos> <eos>',\n '<sos> <sos> the dog laughs by the mat . <eos> <eos>',\n '<sos> <sos> the dog laughs by the tv . <eos> <eos>',\n '<sos> <sos> the dog laughs by the dresser . <eos> <eos>',\n '<sos> <sos> the dog laughs by the shelf . <eos> <eos>',\n '<sos> <sos> the dog laughs by the couch . <eos> <eos>',\n '<sos> <sos> the dog laughs by the desk . <eos> <eos>',\n '<sos> <sos> the dog laughs by the lamp . <eos> <eos>',\n '<sos> <sos> the dog laughs by the computer . <eos> <eos>',\n '<sos> <sos> the dog laughs by the keyboards . <eos> <eos>',\n '<sos> <sos> the dog laughs near the table . <eos> <eos>',\n '<sos> <sos> the dog laughs near the chair . <eos> <eos>',\n '<sos> <sos> the dog laughs near the sofa . <eos> <eos>',\n '<sos> <sos> the dog laughs near the mat . <eos> <eos>',\n '<sos> <sos> the dog laughs near the tv . <eos> <eos>',\n '<sos> <sos> the dog laughs near the dresser . <eos> <eos>',\n '<sos> <sos> the dog laughs near the shelf . <eos> <eos>',\n '<sos> <sos> the dog laughs near the couch . <eos> <eos>',\n '<sos> <sos> the dog laughs near the desk . <eos> <eos>',\n '<sos> <sos> the dog laughs near the lamp . <eos> <eos>',\n '<sos> <sos> the dog laughs near the computer . <eos> <eos>',\n '<sos> <sos> the dog laughs near the keyboards . <eos> <eos>',\n '<sos> <sos> the dog laughs behind the table . <eos> <eos>',\n '<sos> <sos> the dog laughs behind the chair . <eos> <eos>',\n '<sos> <sos> the dog laughs behind the sofa . <eos> <eos>',\n '<sos> <sos> the dog laughs behind the mat . <eos> <eos>',\n '<sos> <sos> the dog laughs behind the tv . <eos> <eos>',\n '<sos> <sos> the dog laughs behind the dresser . <eos> <eos>',\n '<sos> <sos> the dog laughs behind the shelf . <eos> <eos>',\n '<sos> <sos> the dog laughs behind the couch . <eos> <eos>',\n '<sos> <sos> the dog laughs behind the desk . <eos> <eos>',\n '<sos> <sos> the dog laughs behind the lamp . <eos> <eos>',\n '<sos> <sos> the dog laughs behind the computer . <eos> <eos>',\n '<sos> <sos> the dog laughs behind the keyboards . <eos> <eos>',\n '<sos> <sos> the dog plays on the table . <eos> <eos>',\n '<sos> <sos> the dog plays on the chair . <eos> <eos>',\n '<sos> <sos> the dog plays on the sofa . <eos> <eos>',\n '<sos> <sos> the dog plays on the mat . <eos> <eos>',\n '<sos> <sos> the dog plays on the tv . <eos> <eos>',\n '<sos> <sos> the dog plays on the dresser . <eos> <eos>',\n '<sos> <sos> the dog plays on the shelf . <eos> <eos>',\n '<sos> <sos> the dog plays on the couch . <eos> <eos>',\n '<sos> <sos> the dog plays on the desk . <eos> <eos>',\n '<sos> <sos> the dog plays on the lamp . <eos> <eos>',\n '<sos> <sos> the dog plays on the computer . <eos> <eos>',\n '<sos> <sos> the dog plays on the keyboards . <eos> <eos>',\n '<sos> <sos> the dog plays by the table . <eos> <eos>',\n '<sos> <sos> the dog plays by the chair . <eos> <eos>',\n '<sos> <sos> the dog plays by the sofa . <eos> <eos>',\n '<sos> <sos> the dog plays by the mat . <eos> <eos>',\n '<sos> <sos> the dog plays by the tv . <eos> <eos>',\n '<sos> <sos> the dog plays by the dresser . <eos> <eos>',\n '<sos> <sos> the dog plays by the shelf . <eos> <eos>',\n '<sos> <sos> the dog plays by the couch . <eos> <eos>',\n '<sos> <sos> the dog plays by the desk . <eos> <eos>',\n '<sos> <sos> the dog plays by the lamp . <eos> <eos>',\n '<sos> <sos> the dog plays by the computer . <eos> <eos>',\n '<sos> <sos> the dog plays by the keyboards . <eos> <eos>',\n '<sos> <sos> the dog plays near the table . <eos> <eos>',\n '<sos> <sos> the dog plays near the chair . <eos> <eos>',\n '<sos> <sos> the dog plays near the sofa . <eos> <eos>',\n '<sos> <sos> the dog plays near the mat . <eos> <eos>',\n '<sos> <sos> the dog plays near the tv . <eos> <eos>',\n '<sos> <sos> the dog plays near the dresser . <eos> <eos>',\n '<sos> <sos> the dog plays near the shelf . <eos> <eos>',\n '<sos> <sos> the dog plays near the couch . <eos> <eos>',\n '<sos> <sos> the dog plays near the desk . <eos> <eos>',\n '<sos> <sos> the dog plays near the lamp . <eos> <eos>',\n '<sos> <sos> the dog plays near the computer . <eos> <eos>',\n '<sos> <sos> the dog plays near the keyboards . <eos> <eos>',\n '<sos> <sos> the dog plays behind the table . <eos> <eos>',\n '<sos> <sos> the dog plays behind the chair . <eos> <eos>',\n '<sos> <sos> the dog plays behind the sofa . <eos> <eos>',\n '<sos> <sos> the dog plays behind the mat . <eos> <eos>',\n '<sos> <sos> the dog plays behind the tv . <eos> <eos>',\n '<sos> <sos> the dog plays behind the dresser . <eos> <eos>',\n '<sos> <sos> the dog plays behind the shelf . <eos> <eos>',\n '<sos> <sos> the dog plays behind the couch . <eos> <eos>',\n '<sos> <sos> the dog plays behind the desk . <eos> <eos>',\n '<sos> <sos> the dog plays behind the lamp . <eos> <eos>',\n '<sos> <sos> the dog plays behind the computer . <eos> <eos>',\n '<sos> <sos> the dog plays behind the keyboards . <eos> <eos>',\n '<sos> <sos> the dog is on the table . <eos> <eos>',\n '<sos> <sos> the dog is on the chair . <eos> <eos>',\n '<sos> <sos> the dog is on the sofa . <eos> <eos>',\n '<sos> <sos> the dog is on the mat . <eos> <eos>',\n '<sos> <sos> the dog is on the tv . <eos> <eos>',\n '<sos> <sos> the dog is on the dresser . <eos> <eos>',\n '<sos> <sos> the dog is on the shelf . <eos> <eos>',\n '<sos> <sos> the dog is on the couch . <eos> <eos>',\n '<sos> <sos> the dog is on the desk . <eos> <eos>',\n '<sos> <sos> the dog is on the lamp . <eos> <eos>',\n '<sos> <sos> the dog is on the computer . <eos> <eos>',\n '<sos> <sos> the dog is on the keyboards . <eos> <eos>',\n '<sos> <sos> the dog is by the table . <eos> <eos>',\n '<sos> <sos> the dog is by the chair . <eos> <eos>',\n '<sos> <sos> the dog is by the sofa . <eos> <eos>',\n '<sos> <sos> the dog is by the mat . <eos> <eos>',\n '<sos> <sos> the dog is by the tv . <eos> <eos>',\n '<sos> <sos> the dog is by the dresser . <eos> <eos>',\n '<sos> <sos> the dog is by the shelf . <eos> <eos>',\n '<sos> <sos> the dog is by the couch . <eos> <eos>',\n '<sos> <sos> the dog is by the desk . <eos> <eos>',\n '<sos> <sos> the dog is by the lamp . <eos> <eos>',\n '<sos> <sos> the dog is by the computer . <eos> <eos>',\n '<sos> <sos> the dog is by the keyboards . <eos> <eos>',\n '<sos> <sos> the dog is near the table . <eos> <eos>',\n '<sos> <sos> the dog is near the chair . <eos> <eos>',\n '<sos> <sos> the dog is near the sofa . <eos> <eos>',\n '<sos> <sos> the dog is near the mat . <eos> <eos>',\n '<sos> <sos> the dog is near the tv . <eos> <eos>',\n '<sos> <sos> the dog is near the dresser . <eos> <eos>',\n '<sos> <sos> the dog is near the shelf . <eos> <eos>',\n '<sos> <sos> the dog is near the couch . <eos> <eos>',\n '<sos> <sos> the dog is near the desk . <eos> <eos>',\n '<sos> <sos> the dog is near the lamp . <eos> <eos>',\n '<sos> <sos> the dog is near the computer . <eos> <eos>',\n '<sos> <sos> the dog is near the keyboards . <eos> <eos>',\n '<sos> <sos> the dog is behind the table . <eos> <eos>',\n '<sos> <sos> the dog is behind the chair . <eos> <eos>',\n '<sos> <sos> the dog is behind the sofa . <eos> <eos>',\n '<sos> <sos> the dog is behind the mat . <eos> <eos>',\n '<sos> <sos> the dog is behind the tv . <eos> <eos>',\n '<sos> <sos> the dog is behind the dresser . <eos> <eos>',\n '<sos> <sos> the dog is behind the shelf . <eos> <eos>',\n '<sos> <sos> the dog is behind the couch . <eos> <eos>',\n '<sos> <sos> the dog is behind the desk . <eos> <eos>',\n '<sos> <sos> the dog is behind the lamp . <eos> <eos>',\n '<sos> <sos> the dog is behind the computer . <eos> <eos>',\n '<sos> <sos> the dog is behind the keyboards . <eos> <eos>',\n '<sos> <sos> the dog lives on the table . <eos> <eos>',\n '<sos> <sos> the dog lives on the chair . <eos> <eos>',\n '<sos> <sos> the dog lives on the sofa . <eos> <eos>',\n '<sos> <sos> the dog lives on the mat . <eos> <eos>',\n '<sos> <sos> the dog lives on the tv . <eos> <eos>',\n '<sos> <sos> the dog lives on the dresser . <eos> <eos>',\n '<sos> <sos> the dog lives on the shelf . <eos> <eos>',\n '<sos> <sos> the dog lives on the couch . <eos> <eos>',\n '<sos> <sos> the dog lives on the desk . <eos> <eos>',\n '<sos> <sos> the dog lives on the lamp . <eos> <eos>',\n '<sos> <sos> the dog lives on the computer . <eos> <eos>',\n '<sos> <sos> the dog lives on the keyboards . <eos> <eos>',\n '<sos> <sos> the dog lives by the table . <eos> <eos>',\n '<sos> <sos> the dog lives by the chair . <eos> <eos>',\n '<sos> <sos> the dog lives by the sofa . <eos> <eos>',\n '<sos> <sos> the dog lives by the mat . <eos> <eos>',\n '<sos> <sos> the dog lives by the tv . <eos> <eos>',\n '<sos> <sos> the dog lives by the dresser . <eos> <eos>',\n '<sos> <sos> the dog lives by the shelf . <eos> <eos>',\n '<sos> <sos> the dog lives by the couch . <eos> <eos>',\n '<sos> <sos> the dog lives by the desk . <eos> <eos>',\n '<sos> <sos> the dog lives by the lamp . <eos> <eos>',\n '<sos> <sos> the dog lives by the computer . <eos> <eos>',\n '<sos> <sos> the dog lives by the keyboards . <eos> <eos>',\n '<sos> <sos> the dog lives near the table . <eos> <eos>',\n '<sos> <sos> the dog lives near the chair . <eos> <eos>',\n '<sos> <sos> the dog lives near the sofa . <eos> <eos>',\n '<sos> <sos> the dog lives near the mat . <eos> <eos>',\n '<sos> <sos> the dog lives near the tv . <eos> <eos>',\n '<sos> <sos> the dog lives near the dresser . <eos> <eos>',\n '<sos> <sos> the dog lives near the shelf . <eos> <eos>',\n '<sos> <sos> the dog lives near the couch . <eos> <eos>',\n '<sos> <sos> the dog lives near the desk . <eos> <eos>',\n '<sos> <sos> the dog lives near the lamp . <eos> <eos>',\n '<sos> <sos> the dog lives near the computer . <eos> <eos>',\n '<sos> <sos> the dog lives near the keyboards . <eos> <eos>',\n '<sos> <sos> the dog lives behind the table . <eos> <eos>',\n '<sos> <sos> the dog lives behind the chair . <eos> <eos>',\n '<sos> <sos> the dog lives behind the sofa . <eos> <eos>',\n '<sos> <sos> the dog lives behind the mat . <eos> <eos>',\n '<sos> <sos> the dog lives behind the tv . <eos> <eos>',\n '<sos> <sos> the dog lives behind the dresser . <eos> <eos>',\n '<sos> <sos> the dog lives behind the shelf . <eos> <eos>',\n '<sos> <sos> the dog lives behind the couch . <eos> <eos>',\n '<sos> <sos> the dog lives behind the desk . <eos> <eos>',\n '<sos> <sos> the dog lives behind the lamp . <eos> <eos>',\n '<sos> <sos> the dog lives behind the computer . <eos> <eos>',\n '<sos> <sos> the dog lives behind the keyboards . <eos> <eos>',\n '<sos> <sos> the dog waits on the table . <eos> <eos>',\n '<sos> <sos> the dog waits on the chair . <eos> <eos>',\n '<sos> <sos> the dog waits on the sofa . <eos> <eos>',\n '<sos> <sos> the dog waits on the mat . <eos> <eos>',\n '<sos> <sos> the dog waits on the tv . <eos> <eos>',\n '<sos> <sos> the dog waits on the dresser . <eos> <eos>',\n '<sos> <sos> the dog waits on the shelf . <eos> <eos>',\n '<sos> <sos> the dog waits on the couch . <eos> <eos>',\n '<sos> <sos> the dog waits on the desk . <eos> <eos>',\n '<sos> <sos> the dog waits on the lamp . <eos> <eos>',\n '<sos> <sos> the dog waits on the computer . <eos> <eos>',\n '<sos> <sos> the dog waits on the keyboards . <eos> <eos>',\n '<sos> <sos> the dog waits by the table . <eos> <eos>',\n '<sos> <sos> the dog waits by the chair . <eos> <eos>',\n '<sos> <sos> the dog waits by the sofa . <eos> <eos>',\n '<sos> <sos> the dog waits by the mat . <eos> <eos>',\n '<sos> <sos> the dog waits by the tv . <eos> <eos>',\n '<sos> <sos> the dog waits by the dresser . <eos> <eos>',\n '<sos> <sos> the dog waits by the shelf . <eos> <eos>',\n '<sos> <sos> the dog waits by the couch . <eos> <eos>',\n '<sos> <sos> the dog waits by the desk . <eos> <eos>',\n '<sos> <sos> the dog waits by the lamp . <eos> <eos>',\n '<sos> <sos> the dog waits by the computer . <eos> <eos>',\n '<sos> <sos> the dog waits by the keyboards . <eos> <eos>',\n '<sos> <sos> the dog waits near the table . <eos> <eos>',\n '<sos> <sos> the dog waits near the chair . <eos> <eos>',\n '<sos> <sos> the dog waits near the sofa . <eos> <eos>',\n '<sos> <sos> the dog waits near the mat . <eos> <eos>',\n '<sos> <sos> the dog waits near the tv . <eos> <eos>',\n '<sos> <sos> the dog waits near the dresser . <eos> <eos>',\n '<sos> <sos> the dog waits near the shelf . <eos> <eos>',\n '<sos> <sos> the dog waits near the couch . <eos> <eos>',\n '<sos> <sos> the dog waits near the desk . <eos> <eos>',\n '<sos> <sos> the dog waits near the lamp . <eos> <eos>',\n '<sos> <sos> the dog waits near the computer . <eos> <eos>',\n '<sos> <sos> the dog waits near the keyboards . <eos> <eos>',\n '<sos> <sos> the dog waits behind the table . <eos> <eos>',\n '<sos> <sos> the dog waits behind the chair . <eos> <eos>',\n '<sos> <sos> the dog waits behind the sofa . <eos> <eos>',\n '<sos> <sos> the dog waits behind the mat . <eos> <eos>',\n '<sos> <sos> the dog waits behind the tv . <eos> <eos>',\n '<sos> <sos> the dog waits behind the dresser . <eos> <eos>',\n '<sos> <sos> the dog waits behind the shelf . <eos> <eos>',\n '<sos> <sos> the dog waits behind the couch . <eos> <eos>',\n '<sos> <sos> the dog waits behind the desk . <eos> <eos>',\n '<sos> <sos> the dog waits behind the lamp . <eos> <eos>',\n '<sos> <sos> the dog waits behind the computer . <eos> <eos>',\n '<sos> <sos> the dog waits behind the keyboards . <eos> <eos>',\n '<sos> <sos> the cow sits on the table . <eos> <eos>',\n '<sos> <sos> the cow sits on the chair . <eos> <eos>',\n '<sos> <sos> the cow sits on the sofa . <eos> <eos>',\n '<sos> <sos> the cow sits on the mat . <eos> <eos>',\n '<sos> <sos> the cow sits on the tv . <eos> <eos>',\n '<sos> <sos> the cow sits on the dresser . <eos> <eos>',\n '<sos> <sos> the cow sits on the shelf . <eos> <eos>',\n '<sos> <sos> the cow sits on the couch . <eos> <eos>',\n '<sos> <sos> the cow sits on the desk . <eos> <eos>',\n '<sos> <sos> the cow sits on the lamp . <eos> <eos>',\n '<sos> <sos> the cow sits on the computer . <eos> <eos>',\n '<sos> <sos> the cow sits on the keyboards . <eos> <eos>',\n '<sos> <sos> the cow sits by the table . <eos> <eos>',\n '<sos> <sos> the cow sits by the chair . <eos> <eos>',\n '<sos> <sos> the cow sits by the sofa . <eos> <eos>',\n '<sos> <sos> the cow sits by the mat . <eos> <eos>',\n '<sos> <sos> the cow sits by the tv . <eos> <eos>',\n '<sos> <sos> the cow sits by the dresser . <eos> <eos>',\n '<sos> <sos> the cow sits by the shelf . <eos> <eos>',\n '<sos> <sos> the cow sits by the couch . <eos> <eos>',\n '<sos> <sos> the cow sits by the desk . <eos> <eos>',\n '<sos> <sos> the cow sits by the lamp . <eos> <eos>',\n '<sos> <sos> the cow sits by the computer . <eos> <eos>',\n '<sos> <sos> the cow sits by the keyboards . <eos> <eos>',\n '<sos> <sos> the cow sits near the table . <eos> <eos>',\n '<sos> <sos> the cow sits near the chair . <eos> <eos>',\n '<sos> <sos> the cow sits near the sofa . <eos> <eos>',\n '<sos> <sos> the cow sits near the mat . <eos> <eos>',\n '<sos> <sos> the cow sits near the tv . <eos> <eos>',\n '<sos> <sos> the cow sits near the dresser . <eos> <eos>',\n '<sos> <sos> the cow sits near the shelf . <eos> <eos>',\n '<sos> <sos> the cow sits near the couch . <eos> <eos>',\n '<sos> <sos> the cow sits near the desk . <eos> <eos>',\n '<sos> <sos> the cow sits near the lamp . <eos> <eos>',\n '<sos> <sos> the cow sits near the computer . <eos> <eos>',\n '<sos> <sos> the cow sits near the keyboards . <eos> <eos>',\n '<sos> <sos> the cow sits behind the table . <eos> <eos>',\n '<sos> <sos> the cow sits behind the chair . <eos> <eos>',\n '<sos> <sos> the cow sits behind the sofa . <eos> <eos>',\n '<sos> <sos> the cow sits behind the mat . <eos> <eos>',\n ...]"
     },
     "metadata": {},
     "execution_count": 4
    }
   ],
   "source": [
    "sentences"
   ]
  },
  {
   "cell_type": "code",
   "execution_count": 5,
   "metadata": {},
   "outputs": [
    {
     "output_type": "execute_result",
     "data": {
      "text/plain": "array([[0, 0, 1, ..., 6, 7, 7],\n       [0, 0, 1, ..., 6, 7, 7],\n       [0, 0, 1, ..., 6, 7, 7],\n       ...,\n       [0, 0, 1, ..., 6, 7, 7],\n       [0, 0, 1, ..., 6, 7, 7],\n       [0, 0, 1, ..., 6, 7, 7]])"
     },
     "metadata": {},
     "execution_count": 5
    }
   ],
   "source": [
    "tokens"
   ]
  },
  {
   "cell_type": "code",
   "execution_count": 6,
   "metadata": {},
   "outputs": [],
   "source": [
    "## array: length 3, max spike: 4\n",
    "corpus.dictionary.get_encoding(3,4)"
   ]
  },
  {
   "cell_type": "code",
   "execution_count": 7,
   "metadata": {
    "scrolled": true
   },
   "outputs": [],
   "source": [
    "spike_data = SpikeData(tokens, sentences, corpus)"
   ]
  },
  {
   "cell_type": "code",
   "execution_count": 8,
   "metadata": {},
   "outputs": [],
   "source": [
    "spike_input, spike_output = spike_data.convert_tokens(2)"
   ]
  },
  {
   "cell_type": "code",
   "execution_count": 9,
   "metadata": {},
   "outputs": [
    {
     "output_type": "execute_result",
     "data": {
      "text/plain": "array([[3, 0, 2],\n       [3, 0, 2],\n       [0, 1, 1],\n       [1, 3, 2],\n       [3, 0, 3],\n       [0, 1, 1]])"
     },
     "metadata": {},
     "execution_count": 9
    }
   ],
   "source": [
    "spike_input[0]"
   ]
  },
  {
   "cell_type": "code",
   "execution_count": 10,
   "metadata": {},
   "outputs": [
    {
     "output_type": "execute_result",
     "data": {
      "text/plain": "array([1, 0, 3])"
     },
     "metadata": {},
     "execution_count": 10
    }
   ],
   "source": [
    "spike_output[0]"
   ]
  },
  {
   "cell_type": "code",
   "execution_count": null,
   "metadata": {},
   "outputs": [],
   "source": []
  }
 ],
 "metadata": {
  "hide_input": false,
  "kernelspec": {
   "display_name": "Python 3",
   "language": "python",
   "name": "python3"
  },
  "language_info": {
   "codemirror_mode": {
    "name": "ipython",
    "version": 3
   },
   "file_extension": ".py",
   "mimetype": "text/x-python",
   "name": "python",
   "nbconvert_exporter": "python",
   "pygments_lexer": "ipython3",
   "version": "3.7.4-final"
  },
  "toc": {
   "base_numbering": 1,
   "nav_menu": {},
   "number_sections": true,
   "sideBar": true,
   "skip_h1_title": false,
   "title_cell": "Table of Contents",
   "title_sidebar": "Contents",
   "toc_cell": false,
   "toc_position": {},
   "toc_section_display": true,
   "toc_window_display": false
  },
  "varInspector": {
   "cols": {
    "lenName": 16,
    "lenType": 16,
    "lenVar": 40
   },
   "kernels_config": {
    "python": {
     "delete_cmd_postfix": "",
     "delete_cmd_prefix": "del ",
     "library": "var_list.py",
     "varRefreshCmd": "print(var_dic_list())"
    },
    "r": {
     "delete_cmd_postfix": ") ",
     "delete_cmd_prefix": "rm(",
     "library": "var_list.r",
     "varRefreshCmd": "cat(var_dic_list()) "
    }
   },
   "types_to_exclude": [
    "module",
    "function",
    "builtin_function_or_method",
    "instance",
    "_Feature"
   ],
   "window_display": false
  }
 },
 "nbformat": 4,
 "nbformat_minor": 4
}