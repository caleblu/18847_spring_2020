{
 "cells": [
  {
   "cell_type": "code",
   "execution_count": 1,
   "metadata": {},
   "outputs": [],
   "source": [
    "from simulation import  *\n",
    "\n",
    "import torch\n",
    "import torch.nn as nn\n",
    "from torch.utils.data import DataLoader, Dataset\n",
    "from torchvision.datasets import ImageFolder\n",
    "from torch.nn.parameter import Parameter\n",
    "import torchvision\n",
    "from torchvision import transforms\n",
    "\n",
    "from SpykeTorch import snn\n",
    "from SpykeTorch import functional as sf\n",
    "from SpykeTorch import visualization as vis\n",
    "from SpykeTorch import utils\n",
    "\n",
    "import numpy as np\n",
    "import matplotlib.pyplot as plt\n",
    "import time\n",
    "from tqdm import tqdm\n"
   ]
  },
  {
   "cell_type": "code",
   "execution_count": 2,
   "metadata": {},
   "outputs": [
    {
     "name": "stdout",
     "output_type": "stream",
     "text": [
      "3\n"
     ]
    }
   ],
   "source": [
    "length = 3\n",
    "timesteps = 4 # Resolution for timesteps and weights\n",
    "window_size = 2\n",
    "num_neurons = 60 # Number of excitatory neurons in the column\n",
    "threshold = 8 # Firing threshold for every excitatory neuron\n",
    "rf_size = window_size*2\n",
    "inchannels = 1\n",
    "\n",
    "kwta = 3\n",
    "inhibition_radius = 0\n",
    "\n",
    "\n",
    "simulation = Simulation()\n",
    "corpus = Corpus()\n",
    "sentences = simulation.construct_sentences()\n",
    "tokens = corpus.tokenize(sentences)\n",
    "\n",
    "\n",
    "\n",
    "corpus.dictionary.get_encoding(length,timesteps)\n",
    "spike_data = SpikeData(tokens, sentences, corpus)\n",
    "spike_input, spike_output = spike_data.convert_tokens(window_size)\n",
    "print(np.max(spike_output))"
   ]
  },
  {
   "cell_type": "code",
   "execution_count": 23,
   "metadata": {},
   "outputs": [],
   "source": [
    "class Column(nn.Module):\n",
    "    def __init__(self, num_neurons, threshold):\n",
    "        super(Column, self).__init__()\n",
    "        self.k = num_neurons\n",
    "        self.thresh = threshold\n",
    "        self.ec = snn.LocalConvolution(input_size=(rf_size,length),\n",
    "                                       in_channels=inchannels,\n",
    "                                       out_channels=self.k,\n",
    "                                       kernel_size=(rf_size,length),\n",
    "                                       stride=1)\n",
    "        self.stdp = snn.ModSTDP(self.ec, 10/128, 10/128, 1/128, 96/128, 4/128, maxweight = timesteps)\n",
    "\n",
    "    def forward(self, rec_field):\n",
    "        out = self.ec(rec_field)\n",
    "        spike, pot = sf.fire(out, self.thresh, True)\n",
    "        winners = sf.get_k_winners(pot, kwta = kwta, inhibition_radius = inhibition_radius, spikes = spike)\n",
    "        coef = torch.zeros_like(out[0]).unsqueeze_(0)\n",
    "        coef[:,winners,:,:] = 1\n",
    "        return torch.mul(pot, coef).sign()\n",
    "    \n",
    " "
   ]
  },
  {
   "cell_type": "code",
   "execution_count": 24,
   "metadata": {},
   "outputs": [],
   "source": [
    "temporal_transform = utils.Intensity2Latency(timesteps)\n",
    "\n",
    "### Column Initialization ###\n",
    "\n",
    "MyColumn = Column(num_neurons, threshold)"
   ]
  },
  {
   "cell_type": "code",
   "execution_count": 25,
   "metadata": {},
   "outputs": [],
   "source": [
    "cat_idx = corpus.dictionary.word2idx['cat']\n",
    "cat_enc = corpus.dictionary.idx2spike[cat_idx]\n",
    "cat_context = spike_input[np.all(spike_output == cat_enc, axis=1)]\n",
    "cat_context = torch.from_numpy(cat_context)\n",
    "cat_context = temporal_transform(cat_context)\n",
    "cat_context = cat_context.sign()\n",
    "\n",
    "class DatasetContext(Dataset):\n",
    "    def __init__(self, context, transform=None):\n",
    "        self.data = context\n",
    "        \n",
    "    def __len__(self):\n",
    "        return self.data.size(1)\n",
    "    \n",
    "    def __getitem__(self, index):\n",
    "        image = self.data[:,index,:,:].reshape((self.data.size(0),1, self.data.size(2), -1))        \n",
    "        return image\n",
    "    \n",
    "cat = DatasetContext(cat_context)\n",
    "trainLoader = DataLoader(cat, batch_size=1000, shuffle=True)"
   ]
  },
  {
   "cell_type": "code",
   "execution_count": 26,
   "metadata": {},
   "outputs": [],
   "source": [
    "dog_idx = corpus.dictionary.word2idx['dog']\n",
    "dog_enc = corpus.dictionary.idx2spike[dog_idx]\n",
    "dog_context = spike_input[np.all(spike_output == dog_enc, axis=1)]"
   ]
  },
  {
   "cell_type": "code",
   "execution_count": 27,
   "metadata": {
    "scrolled": true
   },
   "outputs": [
    {
     "name": "stderr",
     "output_type": "stream",
     "text": [
      "100%|██████████| 1/1 [00:00<00:00, 101.44it/s]"
     ]
    },
    {
     "name": "stdout",
     "output_type": "stream",
     "text": [
      "tensor([[[[0.]],\n",
      "\n",
      "         [[0.]],\n",
      "\n",
      "         [[0.]]]])\n",
      "Training done under  0.011622905731201172\n"
     ]
    },
    {
     "name": "stderr",
     "output_type": "stream",
     "text": [
      "\n"
     ]
    }
   ],
   "source": [
    "for epochs in range(1):\n",
    "    start = time.time()\n",
    "    cnt = 0\n",
    "    for data in tqdm(trainLoader):\n",
    "        for i in range(1):\n",
    "            out = MyColumn(data[i])\n",
    "            MyColumn.stdp(data[i],out)\n",
    "    end = time.time()\n",
    "    print(\"Training done under \", end-start)"
   ]
  },
  {
   "cell_type": "code",
   "execution_count": 11,
   "metadata": {},
   "outputs": [],
   "source": []
  },
  {
   "cell_type": "code",
   "execution_count": 15,
   "metadata": {},
   "outputs": [
    {
     "name": "stdout",
     "output_type": "stream",
     "text": [
      "[[3 0 2]\n",
      " [0 1 1]\n",
      " [0 3 2]\n",
      " [1 0 3]]\n",
      "[[0 1 1]\n",
      " [2 3 3]\n",
      " [1 0 3]\n",
      " [1 0 0]]\n",
      "[[2 3 3]\n",
      " [0 3 2]\n",
      " [1 0 0]\n",
      " [1 3 1]]\n",
      "[[0 3 2]\n",
      " [1 0 3]\n",
      " [1 3 1]\n",
      " [0 3 2]]\n"
     ]
    }
   ],
   "source": [
    "print spike_input[0]\n",
    "print spike_input[1]\n",
    "print spike_input[2]\n",
    "print spike_input[3]\n"
   ]
  },
  {
   "cell_type": "code",
   "execution_count": 20,
   "metadata": {},
   "outputs": [
    {
     "name": "stdout",
     "output_type": "stream",
     "text": [
      "[3 3 3]\n"
     ]
    }
   ],
   "source": [
    "cat_idx = corpus.dictionary.word2idx['cat']\n",
    "dog_idx = corpus.dictionary.word2idx['dog']\n",
    "cat_enc = corpus.dictionary.idx2spike[cat_idx]\n",
    "dog_enc = corpus.dictionary.idx2spike[dog_idx]\n",
    "print dog_enc"
   ]
  }
 ],
 "metadata": {
  "hide_input": false,
  "kernelspec": {
   "display_name": "Python 3",
   "language": "python",
   "name": "python3"
  },
  "language_info": {
   "codemirror_mode": {
    "name": "ipython",
    "version": 3
   },
   "file_extension": ".py",
   "mimetype": "text/x-python",
   "name": "python",
   "nbconvert_exporter": "python",
   "pygments_lexer": "ipython3",
   "version": "3.7.6"
  },
  "toc": {
   "base_numbering": 1,
   "nav_menu": {},
   "number_sections": true,
   "sideBar": true,
   "skip_h1_title": false,
   "title_cell": "Table of Contents",
   "title_sidebar": "Contents",
   "toc_cell": false,
   "toc_position": {},
   "toc_section_display": true,
   "toc_window_display": false
  },
  "varInspector": {
   "cols": {
    "lenName": 16,
    "lenType": 16,
    "lenVar": 40
   },
   "kernels_config": {
    "python": {
     "delete_cmd_postfix": "",
     "delete_cmd_prefix": "del ",
     "library": "var_list.py",
     "varRefreshCmd": "print(var_dic_list())"
    },
    "r": {
     "delete_cmd_postfix": ") ",
     "delete_cmd_prefix": "rm(",
     "library": "var_list.r",
     "varRefreshCmd": "cat(var_dic_list()) "
    }
   },
   "types_to_exclude": [
    "module",
    "function",
    "builtin_function_or_method",
    "instance",
    "_Feature"
   ],
   "window_display": false
  }
 },
 "nbformat": 4,
 "nbformat_minor": 4
}
