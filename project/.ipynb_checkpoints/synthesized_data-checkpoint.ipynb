{
 "cells": [
  {
   "cell_type": "code",
   "execution_count": 116,
   "metadata": {},
   "outputs": [
    {
     "name": "stdout",
     "output_type": "stream",
     "text": [
      "The autoreload extension is already loaded. To reload it, use:\n",
      "  %reload_ext autoreload\n"
     ]
    }
   ],
   "source": [
    "%load_ext autoreload\n",
    "%autoreload 2\n",
    "%matplotlib inline\n",
    "\n",
    "from simulation import  *\n",
    "from columns import Column, DatasetContext, train_stdp, infer_stdp\n",
    "import torch\n",
    "import torch.nn as nn\n",
    "from torch.utils.data import DataLoader, Dataset\n",
    "from torch.nn.parameter import Parameter\n",
    "import torchvision\n",
    "from torchvision import transforms\n",
    "\n",
    "from SpykeTorch import snn\n",
    "from SpykeTorch import functional as sf\n",
    "from SpykeTorch import visualization as vis\n",
    "from SpykeTorch import utils\n",
    "\n",
    "import seaborn as sns\n",
    "import numpy as np\n",
    "import matplotlib.pyplot as plt\n",
    "import time\n",
    "from tqdm import tqdm\n",
    "import matplotlib.cm\n",
    "\n",
    "import matplotlib.pyplot as plt\n",
    "plt.rcParams[\"figure.figsize\"] = (20,20)"
   ]
  },
  {
   "cell_type": "code",
   "execution_count": 110,
   "metadata": {},
   "outputs": [
    {
     "name": "stdout",
     "output_type": "stream",
     "text": [
      "idx2spike:  (40, 3)\n",
      "idx2spike:  [[3 0 2]\n",
      " [0 1 1]\n",
      " [1 0 3]\n",
      " [1 3 2]\n",
      " [3 0 3]\n",
      " [1 0 0]\n",
      " [0 1 2]\n",
      " [1 3 1]\n",
      " [1 0 1]\n",
      " [0 1 3]\n",
      " [3 3 1]\n",
      " [1 3 0]\n",
      " [2 3 0]\n",
      " [3 3 0]\n",
      " [0 2 1]\n",
      " [2 3 1]\n",
      " [3 3 3]\n",
      " [0 2 0]\n",
      " [2 3 2]\n",
      " [3 3 2]\n",
      " [0 2 3]\n",
      " [2 3 3]\n",
      " [0 2 2]\n",
      " [3 2 2]\n",
      " [2 0 1]\n",
      " [3 1 3]\n",
      " [3 2 3]\n",
      " [1 2 0]\n",
      " [0 3 2]\n",
      " [2 0 0]\n",
      " [0 0 3]\n",
      " [3 1 2]\n",
      " [3 2 0]\n",
      " [0 3 3]\n",
      " [1 2 1]\n",
      " [2 0 3]\n",
      " [0 0 2]\n",
      " [3 1 1]\n",
      " [3 2 1]\n",
      " [0 3 0]]\n"
     ]
    }
   ],
   "source": [
    "length = 3\n",
    "timesteps = 4 # Resolution for timesteps and weights\n",
    "window_size = 2\n",
    "num_neurons = 10 # Number of excitatory neurons in the column\n",
    "threshold = 8 # Firing threshold for every excitatory neuron\n",
    "rf_size = window_size*2\n",
    "inchannels = 1\n",
    "\n",
    "simulation = Simulation()\n",
    "corpus = Corpus()\n",
    "sentences = simulation.construct_sentences()\n",
    "tokens = corpus.tokenize(sentences)\n",
    "\n",
    "corpus.dictionary.get_encoding(length,timesteps)\n",
    "spike_data = SpikeData(tokens, sentences, corpus)\n",
    "spike_input, input, spike_output, output = spike_data.convert_tokens(window_size)\n",
    "\n",
    "def plot_mesh(result):\n",
    "    X = np.linspace(0, result.shape[1],result.shape[1])\n",
    "    Y = np.linspace(0, result.shape[0],result.shape[0])\n",
    "    X, Y = np.meshgrid(X, Y)\n",
    "\n",
    "    plt.figure(figsize = (10,10))\n",
    "\n",
    "    plt.contourf(X, Y, result, [-0.5, 0.5, 1.5, 2.5, 3.5, 4.5], cmap='magma')\n",
    "    plt.colorbar(ticks=range(5))\n",
    "    plt.ylabel(\"learning\")\n",
    "    plt.xlabel(\"feature\")\n",
    "    # ax.plot_surface(X,Y,result.numpy())\n",
    "#     print(result.numpy().shape)\n",
    "#     print(X.shape)\n",
    "\n",
    "#     result[result<4] = 0\n",
    "#     result[result==4] = 1\n",
    "#     four = torch.sum(result, dim = 1)\n",
    "#     print(torch.max(four))"
   ]
  },
  {
   "cell_type": "code",
   "execution_count": 111,
   "metadata": {},
   "outputs": [],
   "source": [
    "spike_input = np.array([np.hstack((s,3-s)) for s in spike_input])\n",
    "length = 6"
   ]
  },
  {
   "cell_type": "code",
   "execution_count": 112,
   "metadata": {},
   "outputs": [
    {
     "name": "stdout",
     "output_type": "stream",
     "text": [
      "(33600, 4, 6)\n",
      "the\n",
      "[0 1 3 4]\n"
     ]
    }
   ],
   "source": [
    "print(spike_input.shape)\n",
    "print(corpus.dictionary.idx2word[output[7]])\n",
    "print(input[1])"
   ]
  },
  {
   "cell_type": "code",
   "execution_count": 130,
   "metadata": {},
   "outputs": [
    {
     "name": "stdout",
     "output_type": "stream",
     "text": [
      "[ True  True  True  True  True  True  True  True  True  True  True  True\n",
      "  True  True  True  True  True  True  True  True  True  True  True  True\n",
      "  True  True  True  True  True  True  True  True  True  True  True  True\n",
      "  True  True  True  True  True  True  True  True  True  True  True  True\n",
      "  True  True  True  True  True  True  True  True  True  True  True  True\n",
      "  True  True  True  True  True  True  True  True  True  True  True  True\n",
      "  True  True  True  True  True  True  True  True  True  True  True  True\n",
      "  True  True  True  True  True  True  True  True  True  True  True  True\n",
      "  True  True  True  True  True  True  True  True  True  True  True  True\n",
      "  True  True  True  True  True  True  True  True  True  True  True  True\n",
      "  True  True  True  True  True  True  True  True  True  True  True  True\n",
      "  True  True  True  True  True  True  True  True  True  True  True  True\n",
      "  True  True  True  True  True  True  True  True  True  True  True  True\n",
      "  True  True  True  True  True  True  True  True  True  True  True  True\n",
      "  True  True  True  True  True  True  True  True  True  True  True  True\n",
      "  True  True  True  True  True  True  True  True  True  True  True  True\n",
      "  True  True  True  True  True  True  True  True  True  True  True  True\n",
      "  True  True  True  True  True  True  True  True  True  True  True  True\n",
      "  True  True  True  True  True  True  True  True  True  True  True  True\n",
      "  True  True  True  True  True  True  True  True  True  True  True  True\n",
      "  True  True  True  True  True  True  True  True  True  True  True  True\n",
      "  True  True  True  True  True  True  True  True  True  True  True  True\n",
      "  True  True  True  True  True  True  True  True  True  True  True  True\n",
      "  True  True  True  True  True  True  True  True  True  True  True  True\n",
      "  True  True  True  True  True  True  True  True  True  True  True  True\n",
      "  True  True  True  True  True  True  True  True  True  True  True  True\n",
      "  True  True  True  True  True  True  True  True  True  True  True  True\n",
      "  True  True  True  True  True  True  True  True  True  True  True  True\n",
      "  True  True  True  True  True  True  True  True  True  True  True  True\n",
      "  True  True  True  True  True  True  True  True  True  True  True  True\n",
      "  True  True  True  True  True  True  True  True  True  True  True  True\n",
      "  True  True  True  True  True  True  True  True  True  True  True  True\n",
      "  True  True  True  True  True  True  True  True  True  True  True  True\n",
      "  True  True  True  True  True  True  True  True  True  True  True  True\n",
      "  True  True  True  True  True  True  True  True  True  True  True  True\n",
      "  True  True  True  True  True  True  True  True  True  True  True  True\n",
      "  True  True  True  True  True  True  True  True  True  True  True  True\n",
      "  True  True  True  True  True  True  True  True  True  True  True  True\n",
      "  True  True  True  True  True  True  True  True  True  True  True  True\n",
      "  True  True  True  True  True  True  True  True  True  True  True  True]\n",
      "[ True  True  True  True  True  True  True  True  True  True  True  True\n",
      "  True  True  True  True  True  True  True  True  True  True  True  True\n",
      "  True  True  True  True  True  True  True  True  True  True  True  True\n",
      "  True  True  True  True  True  True  True  True  True  True  True  True\n",
      "  True  True  True  True  True  True  True  True  True  True  True  True\n",
      "  True  True  True  True  True  True  True  True  True  True  True  True\n",
      "  True  True  True  True  True  True  True  True  True  True  True  True\n",
      "  True  True  True  True  True  True  True  True  True  True  True  True\n",
      "  True  True  True  True  True  True  True  True  True  True  True  True\n",
      "  True  True  True  True  True  True  True  True  True  True  True  True\n",
      "  True  True  True  True  True  True  True  True  True  True  True  True\n",
      "  True  True  True  True  True  True  True  True  True  True  True  True\n",
      "  True  True  True  True  True  True  True  True  True  True  True  True\n",
      "  True  True  True  True  True  True  True  True  True  True  True  True\n",
      "  True  True  True  True  True  True  True  True  True  True  True  True\n",
      "  True  True  True  True  True  True  True  True  True  True  True  True\n",
      "  True  True  True  True  True  True  True  True  True  True  True  True\n",
      "  True  True  True  True  True  True  True  True  True  True  True  True\n",
      "  True  True  True  True  True  True  True  True  True  True  True  True\n",
      "  True  True  True  True  True  True  True  True  True  True  True  True\n",
      "  True  True  True  True  True  True  True  True  True  True  True  True\n",
      "  True  True  True  True  True  True  True  True  True  True  True  True\n",
      "  True  True  True  True  True  True  True  True  True  True  True  True\n",
      "  True  True  True  True  True  True  True  True  True  True  True  True\n",
      "  True  True  True  True  True  True  True  True  True  True  True  True\n",
      "  True  True  True  True  True  True  True  True  True  True  True  True\n",
      "  True  True  True  True  True  True  True  True  True  True  True  True\n",
      "  True  True  True  True  True  True  True  True  True  True  True  True\n",
      "  True  True  True  True  True  True  True  True  True  True  True  True\n",
      "  True  True  True  True  True  True  True  True  True  True  True  True\n",
      "  True  True  True  True  True  True  True  True  True  True  True  True\n",
      "  True  True  True  True  True  True  True  True  True  True  True  True\n",
      "  True  True  True  True  True  True  True  True  True  True  True  True\n",
      "  True  True  True  True  True  True  True  True  True  True  True  True\n",
      "  True  True  True  True  True  True  True  True  True  True  True  True\n",
      "  True  True  True  True  True  True  True  True  True  True  True  True\n",
      "  True  True  True  True  True  True  True  True  True  True  True  True\n",
      "  True  True  True  True  True  True  True  True  True  True  True  True\n",
      "  True  True  True  True  True  True  True  True  True  True  True  True\n",
      "  True  True  True  True  True  True  True  True  True  True  True  True]\n",
      "[ True  True  True  True  True  True  True  True  True  True  True  True\n",
      "  True  True  True  True  True  True  True  True  True  True  True  True\n",
      "  True  True  True  True  True  True  True  True  True  True  True  True\n",
      "  True  True  True  True  True  True  True  True  True  True  True  True\n",
      "  True  True  True  True  True  True  True  True  True  True  True  True\n",
      "  True  True  True  True  True  True  True  True  True  True  True  True\n",
      "  True  True  True  True  True  True  True  True  True  True  True  True\n",
      "  True  True  True  True  True  True  True  True  True  True  True  True\n",
      "  True  True  True  True  True  True  True  True  True  True  True  True\n",
      "  True  True  True  True  True  True  True  True  True  True  True  True\n",
      "  True  True  True  True  True  True  True  True  True  True  True  True\n",
      "  True  True  True  True  True  True  True  True  True  True  True  True\n",
      "  True  True  True  True  True  True  True  True  True  True  True  True\n",
      "  True  True  True  True  True  True  True  True  True  True  True  True\n",
      "  True  True  True  True  True  True  True  True  True  True  True  True\n",
      "  True  True  True  True  True  True  True  True  True  True  True  True\n",
      "  True  True  True  True  True  True  True  True  True  True  True  True\n",
      "  True  True  True  True  True  True  True  True  True  True  True  True\n",
      "  True  True  True  True  True  True  True  True  True  True  True  True\n",
      "  True  True  True  True  True  True  True  True  True  True  True  True\n",
      "  True  True  True  True  True  True  True  True  True  True  True  True\n",
      "  True  True  True  True  True  True  True  True  True  True  True  True\n",
      "  True  True  True  True  True  True  True  True  True  True  True  True\n",
      "  True  True  True  True  True  True  True  True  True  True  True  True\n",
      "  True  True  True  True  True  True  True  True  True  True  True  True\n",
      "  True  True  True  True  True  True  True  True  True  True  True  True\n",
      "  True  True  True  True  True  True  True  True  True  True  True  True\n",
      "  True  True  True  True  True  True  True  True  True  True  True  True\n",
      "  True  True  True  True  True  True  True  True  True  True  True  True\n",
      "  True  True  True  True  True  True  True  True  True  True  True  True\n",
      "  True  True  True  True  True  True  True  True  True  True  True  True\n",
      "  True  True  True  True  True  True  True  True  True  True  True  True\n",
      "  True  True  True  True  True  True  True  True  True  True  True  True\n",
      "  True  True  True  True]\n"
     ]
    }
   ],
   "source": [
    "### Column Initialization ###\n",
    "from columns import Column1, Column, SynDataset\n",
    "\n",
    "voc_size = len(corpus.dictionary.idx2word)\n",
    "kwta = int(num_neurons/2)\n",
    "\n",
    "column1 = Column1(num_neurons, threshold, kwta, 0, rf_size, length, timesteps)\n",
    "column2 = Column(num_neurons, threshold, num_neurons,0,num_neurons,rf_size,timesteps)\n",
    "dataset = SynDataset(corpus,spike_input, input,  output, timesteps, ['dog','sits','mat']) \n",
    "\n",
    "R = torch.zeros((timesteps, num_neurons, voc_size))\n"
   ]
  },
  {
   "cell_type": "code",
   "execution_count": 124,
   "metadata": {},
   "outputs": [],
   "source": [
    "# input_temp, input_r,  output_r = dataset.__getitem__(1)\n",
    "# print(input_temp.size())\n",
    "# print(R[:,:,input_r].size())\n",
    "# out = column1(input_temp, R[:,:,input_r])\n",
    "# print(out.size())\n",
    "# out2 = column2(out)\n",
    "# print(out2.size())\n",
    "# column2.rstdp(out, out2, R[:,:,output_r])\n",
    "# R[:,:,output_r] = out2.squeeze()\n"
   ]
  },
  {
   "cell_type": "code",
   "execution_count": 135,
   "metadata": {},
   "outputs": [
    {
     "name": "stderr",
     "output_type": "stream",
     "text": [
      "\r",
      "  0%|          | 0/1 [00:00<?, ?it/s]"
     ]
    },
    {
     "name": "stdout",
     "output_type": "stream",
     "text": [
      "1360\n"
     ]
    },
    {
     "name": "stderr",
     "output_type": "stream",
     "text": [
      "100%|██████████| 1/1 [00:07<00:00,  7.14s/it]\n",
      "  0%|          | 0/1 [00:00<?, ?it/s]"
     ]
    },
    {
     "name": "stdout",
     "output_type": "stream",
     "text": [
      "1360\n"
     ]
    },
    {
     "name": "stderr",
     "output_type": "stream",
     "text": [
      "100%|██████████| 1/1 [00:07<00:00,  7.02s/it]\n",
      "  0%|          | 0/1 [00:00<?, ?it/s]"
     ]
    },
    {
     "name": "stdout",
     "output_type": "stream",
     "text": [
      "1360\n"
     ]
    },
    {
     "name": "stderr",
     "output_type": "stream",
     "text": [
      "100%|██████████| 1/1 [00:06<00:00,  6.90s/it]\n",
      "  0%|          | 0/1 [00:00<?, ?it/s]"
     ]
    },
    {
     "name": "stdout",
     "output_type": "stream",
     "text": [
      "1360\n"
     ]
    },
    {
     "name": "stderr",
     "output_type": "stream",
     "text": [
      "100%|██████████| 1/1 [00:06<00:00,  6.92s/it]\n",
      "  0%|          | 0/1 [00:00<?, ?it/s]"
     ]
    },
    {
     "name": "stdout",
     "output_type": "stream",
     "text": [
      "1360\n"
     ]
    },
    {
     "name": "stderr",
     "output_type": "stream",
     "text": [
      "100%|██████████| 1/1 [00:07<00:00,  7.35s/it]"
     ]
    },
    {
     "name": "stdout",
     "output_type": "stream",
     "text": [
      "Training done under  7.3473780155181885\n"
     ]
    },
    {
     "name": "stderr",
     "output_type": "stream",
     "text": [
      "\n"
     ]
    }
   ],
   "source": [
    "from SpykeTorch import snn\n",
    "from columns import train_rstdp\n",
    "\n",
    "num_epochs = 5\n",
    "\n",
    "result, result_label, R1 = train_rstdp(dataset, column1, column2, num_neurons, num_epochs, R)"
   ]
  },
  {
   "cell_type": "code",
   "execution_count": 136,
   "metadata": {},
   "outputs": [
    {
     "name": "stdout",
     "output_type": "stream",
     "text": [
      "[ 3. 10. 31.]\n",
      "tensor([[0., 2., 2.],\n",
      "        [0., 2., 2.],\n",
      "        [0., 2., 2.],\n",
      "        [2., 0., 0.],\n",
      "        [0., 2., 2.],\n",
      "        [2., 0., 0.],\n",
      "        [2., 0., 0.],\n",
      "        [2., 0., 0.],\n",
      "        [2., 0., 0.],\n",
      "        [0., 2., 2.]])\n",
      "(2400, 10)\n"
     ]
    }
   ],
   "source": [
    "labels = np.unique(result_label)\n",
    "print(labels)\n",
    "print(torch.sum(R1, dim=0)[:,labels])\n",
    "print(result[result_label==labels[0],:].shape)"
   ]
  },
  {
   "cell_type": "code",
   "execution_count": 137,
   "metadata": {
    "scrolled": true
   },
   "outputs": [
    {
     "data": {
      "image/png": "[encoded data removed]",
      "text/plain": [
       "<Figure size 720x720 with 2 Axes>"
      ]
     },
     "metadata": {
      "needs_background": "light"
     },
     "output_type": "display_data"
    },
    {
     "data": {
      "image/png": "[encoded data removed]",
      "text/plain": [
       "<Figure size 720x720 with 2 Axes>"
      ]
     },
     "metadata": {
      "needs_background": "light"
     },
     "output_type": "display_data"
    },
    {
     "data": {
      "image/png": "[encoded data removed]",
      "text/plain": [
       "<Figure size 720x720 with 2 Axes>"
      ]
     },
     "metadata": {
      "needs_background": "light"
     },
     "output_type": "display_data"
    }
   ],
   "source": [
    "for l in labels:\n",
    "    plot_mesh(result[result_label==l,:])\n",
    "    plt.show()"
   ]
  },
  {
   "cell_type": "code",
   "execution_count": 109,
   "metadata": {
    "scrolled": true
   },
   "outputs": [
    {
     "data": {
      "image/png": "[encoded data removed]",
      "text/plain": [
       "<Figure size 720x720 with 2 Axes>"
      ]
     },
     "metadata": {
      "needs_background": "light"
     },
     "output_type": "display_data"
    }
   ],
   "source": []
  },
  {
   "cell_type": "code",
   "execution_count": 175,
   "metadata": {},
   "outputs": [],
   "source": [
    "# sns.heatmap(test_result[:480,:])"
   ]
  },
  {
   "cell_type": "code",
   "execution_count": 176,
   "metadata": {},
   "outputs": [],
   "source": [
    "# sns.heatmap(test_result[480:,:])"
   ]
  },
  {
   "cell_type": "code",
   "execution_count": 16,
   "metadata": {},
   "outputs": [],
   "source": []
  },
  {
   "cell_type": "code",
   "execution_count": 27,
   "metadata": {},
   "outputs": [
    {
     "data": {
      "image/png": "[encoded data removed]",
      "text/plain": [
       "<Figure size 720x720 with 2 Axes>"
      ]
     },
     "metadata": {
      "needs_background": "light"
     },
     "output_type": "display_data"
    }
   ],
   "source": []
  },
  {
   "cell_type": "code",
   "execution_count": 179,
   "metadata": {},
   "outputs": [
    {
     "data": {
      "image/png": "[encoded data removed]",
      "text/plain": [
       "<Figure size 720x720 with 2 Axes>"
      ]
     },
     "metadata": {
      "needs_background": "light"
     },
     "output_type": "display_data"
    }
   ],
   "source": [
    "plot_mesh(test_result[:480,:])"
   ]
  },
  {
   "cell_type": "code",
   "execution_count": 38,
   "metadata": {},
   "outputs": [
    {
     "name": "stderr",
     "output_type": "stream",
     "text": [
      "100%|██████████| 1/1 [00:00<00:00,  1.00it/s]\n",
      "  0%|          | 0/1 [00:00<?, ?it/s]"
     ]
    },
    {
     "name": "stdout",
     "output_type": "stream",
     "text": [
      "Training done under  1.0010170936584473\n"
     ]
    },
    {
     "name": "stderr",
     "output_type": "stream",
     "text": [
      "100%|██████████| 1/1 [00:01<00:00,  1.12s/it]\n",
      "  0%|          | 0/1 [00:00<?, ?it/s]"
     ]
    },
    {
     "name": "stdout",
     "output_type": "stream",
     "text": [
      "Training done under  1.1255838871002197\n"
     ]
    },
    {
     "name": "stderr",
     "output_type": "stream",
     "text": [
      "100%|██████████| 1/1 [00:00<00:00,  1.10it/s]\n",
      "  0%|          | 0/1 [00:00<?, ?it/s]"
     ]
    },
    {
     "name": "stdout",
     "output_type": "stream",
     "text": [
      "Training done under  0.9129364490509033\n"
     ]
    },
    {
     "name": "stderr",
     "output_type": "stream",
     "text": [
      "100%|██████████| 1/1 [00:00<00:00,  1.07it/s]\n",
      "  0%|          | 0/1 [00:00<?, ?it/s]"
     ]
    },
    {
     "name": "stdout",
     "output_type": "stream",
     "text": [
      "Training done under  0.9335274696350098\n"
     ]
    },
    {
     "name": "stderr",
     "output_type": "stream",
     "text": [
      "100%|██████████| 1/1 [00:01<00:00,  1.12s/it]\n",
      "  0%|          | 0/1 [00:00<?, ?it/s]"
     ]
    },
    {
     "name": "stdout",
     "output_type": "stream",
     "text": [
      "Training done under  1.1220498085021973\n"
     ]
    },
    {
     "name": "stderr",
     "output_type": "stream",
     "text": [
      "100%|██████████| 1/1 [00:00<00:00,  1.02it/s]\n",
      "  0%|          | 0/1 [00:00<?, ?it/s]"
     ]
    },
    {
     "name": "stdout",
     "output_type": "stream",
     "text": [
      "Training done under  0.986626148223877\n"
     ]
    },
    {
     "name": "stderr",
     "output_type": "stream",
     "text": [
      "100%|██████████| 1/1 [00:00<00:00,  1.01it/s]\n",
      "  0%|          | 0/1 [00:00<?, ?it/s]"
     ]
    },
    {
     "name": "stdout",
     "output_type": "stream",
     "text": [
      "Training done under  0.9880578517913818\n"
     ]
    },
    {
     "name": "stderr",
     "output_type": "stream",
     "text": [
      "100%|██████████| 1/1 [00:00<00:00,  1.11it/s]\n",
      "  0%|          | 0/1 [00:00<?, ?it/s]"
     ]
    },
    {
     "name": "stdout",
     "output_type": "stream",
     "text": [
      "Training done under  0.8989684581756592\n"
     ]
    },
    {
     "name": "stderr",
     "output_type": "stream",
     "text": [
      "100%|██████████| 1/1 [00:01<00:00,  1.24s/it]\n",
      "  0%|          | 0/1 [00:00<?, ?it/s]"
     ]
    },
    {
     "name": "stdout",
     "output_type": "stream",
     "text": [
      "Training done under  1.239969253540039\n"
     ]
    },
    {
     "name": "stderr",
     "output_type": "stream",
     "text": [
      "100%|██████████| 1/1 [00:01<00:00,  1.24s/it]\n",
      "  0%|          | 0/1 [00:00<?, ?it/s]"
     ]
    },
    {
     "name": "stdout",
     "output_type": "stream",
     "text": [
      "Training done under  1.2384588718414307\n"
     ]
    },
    {
     "name": "stderr",
     "output_type": "stream",
     "text": [
      "100%|██████████| 1/1 [00:01<00:00,  1.59s/it]\n",
      "  0%|          | 0/1 [00:00<?, ?it/s]"
     ]
    },
    {
     "name": "stdout",
     "output_type": "stream",
     "text": [
      "Training done under  1.5972001552581787\n"
     ]
    },
    {
     "name": "stderr",
     "output_type": "stream",
     "text": [
      "100%|██████████| 1/1 [00:01<00:00,  1.56s/it]\n",
      "  0%|          | 0/1 [00:00<?, ?it/s]"
     ]
    },
    {
     "name": "stdout",
     "output_type": "stream",
     "text": [
      "Training done under  1.5579774379730225\n"
     ]
    },
    {
     "name": "stderr",
     "output_type": "stream",
     "text": [
      "100%|██████████| 1/1 [00:01<00:00,  1.60s/it]\n",
      "  0%|          | 0/1 [00:00<?, ?it/s]"
     ]
    },
    {
     "name": "stdout",
     "output_type": "stream",
     "text": [
      "Training done under  1.6027183532714844\n"
     ]
    },
    {
     "name": "stderr",
     "output_type": "stream",
     "text": [
      "100%|██████████| 1/1 [00:01<00:00,  1.65s/it]\n",
      "  0%|          | 0/1 [00:00<?, ?it/s]"
     ]
    },
    {
     "name": "stdout",
     "output_type": "stream",
     "text": [
      "Training done under  1.649308443069458\n"
     ]
    },
    {
     "name": "stderr",
     "output_type": "stream",
     "text": [
      "100%|██████████| 1/1 [00:01<00:00,  1.43s/it]"
     ]
    },
    {
     "name": "stdout",
     "output_type": "stream",
     "text": [
      "Training done under  1.4293889999389648\n"
     ]
    },
    {
     "name": "stderr",
     "output_type": "stream",
     "text": [
      "\n"
     ]
    }
   ],
   "source": [
    "\n",
    "### Column Initialization ###\n",
    "\n",
    "MyColumn2 = Column(num_neurons, threshold, 8, 0)\n",
    "\n",
    "    \n",
    "dog = DatasetContext(sit_context)\n",
    "trainLoader = DataLoader(dog, batch_size=1000, shuffle=True)\n",
    "\n",
    "num_epochs = 15\n",
    "result2 = torch.zeros(num_epochs*dog.__len__(), num_neurons)\n",
    "for epochs in range(num_epochs):\n",
    "    start = time.time()\n",
    "    cnt = 0\n",
    "    for data in tqdm(trainLoader):\n",
    "        for i in range(len(data)):\n",
    "            out = MyColumn2(data[i])\n",
    "            result2[epochs*480+i, :] = torch.sum(out.squeeze(),dim=0)\n",
    "            MyColumn2.stdp(data[i],out)\n",
    "    end = time.time()\n",
    "    print(\"Training done under \", end-start)"
   ]
  },
  {
   "cell_type": "code",
   "execution_count": 39,
   "metadata": {
    "scrolled": true
   },
   "outputs": [
    {
     "name": "stdout",
     "output_type": "stream",
     "text": [
      "(7200, 60)\n",
      "[4. 0. 0. 0. 0. 0. 0. 0. 0. 0. 0. 0. 0. 0. 0. 4. 0. 0. 0. 0. 0. 0. 0. 0.\n",
      " 0. 0. 0. 4. 0. 4. 4. 0. 0. 0. 0. 0. 4. 4. 0. 0. 0. 0. 4. 0. 0. 0. 0. 0.\n",
      " 0. 0. 4. 0. 0. 0. 0. 0. 0. 0. 0. 0.]\n"
     ]
    },
    {
     "data": {
      "image/png": "[encoded data removed]",
      "text/plain": [
       "<Figure size 720x720 with 2 Axes>"
      ]
     },
     "metadata": {
      "needs_background": "light"
     },
     "output_type": "display_data"
    }
   ],
   "source": [
    "X = np.linspace(0, result2.size(1),result2.size(1))\n",
    "Y = np.linspace(0, result2.size(0),result2.size(0))\n",
    "X, Y = np.meshgrid(X, Y)\n",
    "\n",
    "plt.figure(figsize = (10,10))\n",
    "\n",
    "plt.contourf(X, Y, result2.numpy(), [-0.5, 0.5, 1.5, 2.5, 3.5, 4.5], cmap='magma')\n",
    "plt.colorbar(ticks=range(5))\n",
    "plt.ylabel(\"learning\")\n",
    "plt.xlabel(\"feature\")\n",
    "# ax.plot_surface(X,Y,result.numpy())\n",
    "print(result2.numpy().shape)\n",
    "print(result2.numpy()[-1,:])\n"
   ]
  },
  {
   "cell_type": "code",
   "execution_count": 40,
   "metadata": {},
   "outputs": [
    {
     "name": "stdout",
     "output_type": "stream",
     "text": [
      "[3. 0. 0. 0. 0. 0. 4. 0. 0. 0. 0. 0. 0. 0. 0. 0. 0. 0. 0. 0. 0. 0. 0. 0.\n",
      " 4. 0. 0. 0. 0. 0. 0. 0. 0. 0. 0. 0. 0. 0. 0. 0. 4. 0. 0. 4. 0. 0. 0. 0.\n",
      " 0. 4. 4. 0. 0. 0. 0. 0. 0. 4. 0. 4.]\n",
      "[3. 0. 0. 0. 0. 0. 0. 0. 0. 0. 3. 3. 0. 0. 0. 0. 0. 0. 0. 0. 0. 0. 0. 0.\n",
      " 0. 0. 0. 0. 0. 0. 3. 0. 3. 3. 0. 0. 0. 0. 3. 0. 0. 0. 0. 0. 0. 0. 0. 0.\n",
      " 0. 0. 3. 0. 3. 0. 0. 0. 0. 0. 0. 0.]\n",
      "[4. 0. 0. 0. 0. 0. 0. 0. 0. 0. 0. 0. 0. 0. 0. 0. 0. 0. 0. 0. 0. 0. 0. 0.\n",
      " 0. 0. 0. 0. 0. 0. 0. 0. 0. 0. 0. 0. 0. 0. 0. 0. 0. 0. 0. 0. 0. 0. 0. 0.\n",
      " 0. 0. 0. 4. 4. 4. 4. 4. 4. 4. 4. 0.]\n",
      "[0. 0. 0. 0. 0. 0. 0. 0. 0. 0. 0. 0. 0. 0. 0. 0. 0. 0. 0. 0. 0. 0. 0. 0.\n",
      " 0. 0. 0. 0. 0. 0. 0. 0. 0. 0. 0. 0. 0. 0. 0. 0. 0. 0. 0. 0. 0. 0. 0. 0.\n",
      " 0. 0. 0. 0. 0. 0. 0. 0. 0. 0. 0. 0.]\n"
     ]
    }
   ],
   "source": [
    "print(result2.numpy()[-2,:])\n",
    "print(result2.numpy()[-3,:])\n",
    "print(result2.numpy()[-4,:])\n",
    "\n",
    "print(result2.numpy()[0,:])\n"
   ]
  },
  {
   "cell_type": "code",
   "execution_count": 41,
   "metadata": {},
   "outputs": [
    {
     "name": "stderr",
     "output_type": "stream",
     "text": [
      "100%|██████████| 480/480 [00:01<00:00, 406.73it/s]\n",
      "  8%|▊         | 38/480 [00:00<00:01, 378.16it/s]"
     ]
    },
    {
     "name": "stdout",
     "output_type": "stream",
     "text": [
      "Training done under  1.1821651458740234\n"
     ]
    },
    {
     "name": "stderr",
     "output_type": "stream",
     "text": [
      "100%|██████████| 480/480 [00:01<00:00, 375.56it/s]\n",
      "  8%|▊         | 38/480 [00:00<00:01, 378.76it/s]"
     ]
    },
    {
     "name": "stdout",
     "output_type": "stream",
     "text": [
      "Training done under  1.2808358669281006\n"
     ]
    },
    {
     "name": "stderr",
     "output_type": "stream",
     "text": [
      "100%|██████████| 480/480 [00:01<00:00, 374.68it/s]\n",
      "  8%|▊         | 39/480 [00:00<00:01, 382.79it/s]"
     ]
    },
    {
     "name": "stdout",
     "output_type": "stream",
     "text": [
      "Training done under  1.2834537029266357\n"
     ]
    },
    {
     "name": "stderr",
     "output_type": "stream",
     "text": [
      "100%|██████████| 480/480 [00:01<00:00, 415.51it/s]\n",
      " 11%|█         | 52/480 [00:00<00:00, 515.04it/s]"
     ]
    },
    {
     "name": "stdout",
     "output_type": "stream",
     "text": [
      "Training done under  1.1572041511535645\n"
     ]
    },
    {
     "name": "stderr",
     "output_type": "stream",
     "text": [
      "100%|██████████| 480/480 [00:00<00:00, 487.38it/s]\n",
      "  8%|▊         | 38/480 [00:00<00:01, 373.16it/s]"
     ]
    },
    {
     "name": "stdout",
     "output_type": "stream",
     "text": [
      "Training done under  0.9891338348388672\n"
     ]
    },
    {
     "name": "stderr",
     "output_type": "stream",
     "text": [
      "100%|██████████| 480/480 [00:01<00:00, 456.62it/s]\n",
      " 11%|█         | 51/480 [00:00<00:00, 501.30it/s]"
     ]
    },
    {
     "name": "stdout",
     "output_type": "stream",
     "text": [
      "Training done under  1.0532972812652588\n"
     ]
    },
    {
     "name": "stderr",
     "output_type": "stream",
     "text": [
      "100%|██████████| 480/480 [00:01<00:00, 376.90it/s]\n",
      " 10%|█         | 50/480 [00:00<00:00, 492.57it/s]"
     ]
    },
    {
     "name": "stdout",
     "output_type": "stream",
     "text": [
      "Training done under  1.2752106189727783\n"
     ]
    },
    {
     "name": "stderr",
     "output_type": "stream",
     "text": [
      "100%|██████████| 480/480 [00:00<00:00, 511.66it/s]\n",
      "  8%|▊         | 38/480 [00:00<00:01, 374.19it/s]"
     ]
    },
    {
     "name": "stdout",
     "output_type": "stream",
     "text": [
      "Training done under  0.9405341148376465\n"
     ]
    },
    {
     "name": "stderr",
     "output_type": "stream",
     "text": [
      "100%|██████████| 480/480 [00:01<00:00, 408.76it/s]\n",
      " 11%|█         | 52/480 [00:00<00:00, 519.42it/s]"
     ]
    },
    {
     "name": "stdout",
     "output_type": "stream",
     "text": [
      "Training done under  1.1766643524169922\n"
     ]
    },
    {
     "name": "stderr",
     "output_type": "stream",
     "text": [
      "100%|██████████| 480/480 [00:01<00:00, 413.97it/s]\n",
      "  8%|▊         | 38/480 [00:00<00:01, 373.64it/s]"
     ]
    },
    {
     "name": "stdout",
     "output_type": "stream",
     "text": [
      "Training done under  1.1618561744689941\n"
     ]
    },
    {
     "name": "stderr",
     "output_type": "stream",
     "text": [
      "100%|██████████| 480/480 [00:01<00:00, 460.59it/s]\n",
      " 11%|█         | 53/480 [00:00<00:00, 527.77it/s]"
     ]
    },
    {
     "name": "stdout",
     "output_type": "stream",
     "text": [
      "Training done under  1.0440468788146973\n"
     ]
    },
    {
     "name": "stderr",
     "output_type": "stream",
     "text": [
      "100%|██████████| 480/480 [00:01<00:00, 410.34it/s]\n",
      "  7%|▋         | 34/480 [00:00<00:01, 339.15it/s]"
     ]
    },
    {
     "name": "stdout",
     "output_type": "stream",
     "text": [
      "Training done under  1.1722686290740967\n"
     ]
    },
    {
     "name": "stderr",
     "output_type": "stream",
     "text": [
      "100%|██████████| 480/480 [00:01<00:00, 342.32it/s]\n",
      "  8%|▊         | 37/480 [00:00<00:01, 369.38it/s]"
     ]
    },
    {
     "name": "stdout",
     "output_type": "stream",
     "text": [
      "Training done under  1.4049832820892334\n"
     ]
    },
    {
     "name": "stderr",
     "output_type": "stream",
     "text": [
      "100%|██████████| 480/480 [00:01<00:00, 403.63it/s]\n",
      " 11%|█         | 52/480 [00:00<00:00, 518.51it/s]"
     ]
    },
    {
     "name": "stdout",
     "output_type": "stream",
     "text": [
      "Training done under  1.1911976337432861\n"
     ]
    },
    {
     "name": "stderr",
     "output_type": "stream",
     "text": [
      "100%|██████████| 480/480 [00:00<00:00, 500.95it/s]\n",
      "  8%|▊         | 38/480 [00:00<00:01, 377.37it/s]"
     ]
    },
    {
     "name": "stdout",
     "output_type": "stream",
     "text": [
      "Training done under  0.9604771137237549\n"
     ]
    },
    {
     "name": "stderr",
     "output_type": "stream",
     "text": [
      "100%|██████████| 480/480 [00:01<00:00, 376.05it/s]\n",
      "  8%|▊         | 38/480 [00:00<00:01, 378.75it/s]"
     ]
    },
    {
     "name": "stdout",
     "output_type": "stream",
     "text": [
      "Training done under  1.2799501419067383\n"
     ]
    },
    {
     "name": "stderr",
     "output_type": "stream",
     "text": [
      "100%|██████████| 480/480 [00:01<00:00, 430.18it/s]\n",
      " 10%|█         | 50/480 [00:00<00:00, 498.91it/s]"
     ]
    },
    {
     "name": "stdout",
     "output_type": "stream",
     "text": [
      "Training done under  1.1182022094726562\n"
     ]
    },
    {
     "name": "stderr",
     "output_type": "stream",
     "text": [
      "100%|██████████| 480/480 [00:01<00:00, 400.85it/s]\n",
      "  6%|▋         | 30/480 [00:00<00:01, 291.03it/s]"
     ]
    },
    {
     "name": "stdout",
     "output_type": "stream",
     "text": [
      "Training done under  1.1997125148773193\n"
     ]
    },
    {
     "name": "stderr",
     "output_type": "stream",
     "text": [
      "100%|██████████| 480/480 [00:01<00:00, 299.69it/s]\n",
      "  9%|▊         | 41/480 [00:00<00:01, 407.56it/s]"
     ]
    },
    {
     "name": "stdout",
     "output_type": "stream",
     "text": [
      "Training done under  1.6041641235351562\n"
     ]
    },
    {
     "name": "stderr",
     "output_type": "stream",
     "text": [
      "100%|██████████| 480/480 [00:01<00:00, 320.50it/s]\n",
      "  6%|▋         | 30/480 [00:00<00:01, 295.17it/s]"
     ]
    },
    {
     "name": "stdout",
     "output_type": "stream",
     "text": [
      "Training done under  1.4996075630187988\n"
     ]
    },
    {
     "name": "stderr",
     "output_type": "stream",
     "text": [
      "100%|██████████| 480/480 [00:01<00:00, 349.20it/s]\n",
      "  8%|▊         | 40/480 [00:00<00:01, 398.13it/s]"
     ]
    },
    {
     "name": "stdout",
     "output_type": "stream",
     "text": [
      "Training done under  1.3771867752075195\n"
     ]
    },
    {
     "name": "stderr",
     "output_type": "stream",
     "text": [
      "100%|██████████| 480/480 [00:01<00:00, 373.04it/s]\n",
      "  7%|▋         | 34/480 [00:00<00:01, 331.22it/s]"
     ]
    },
    {
     "name": "stdout",
     "output_type": "stream",
     "text": [
      "Training done under  1.2889471054077148\n"
     ]
    },
    {
     "name": "stderr",
     "output_type": "stream",
     "text": [
      "100%|██████████| 480/480 [00:01<00:00, 373.65it/s]\n",
      "  8%|▊         | 40/480 [00:00<00:01, 392.91it/s]"
     ]
    },
    {
     "name": "stdout",
     "output_type": "stream",
     "text": [
      "Training done under  1.2865149974822998\n"
     ]
    },
    {
     "name": "stderr",
     "output_type": "stream",
     "text": [
      "100%|██████████| 480/480 [00:01<00:00, 301.68it/s]\n",
      "  6%|▌         | 28/480 [00:00<00:01, 274.05it/s]"
     ]
    },
    {
     "name": "stdout",
     "output_type": "stream",
     "text": [
      "Training done under  1.5935311317443848\n"
     ]
    },
    {
     "name": "stderr",
     "output_type": "stream",
     "text": [
      "100%|██████████| 480/480 [00:01<00:00, 274.07it/s]\n",
      "  6%|▌         | 28/480 [00:00<00:01, 278.96it/s]"
     ]
    },
    {
     "name": "stdout",
     "output_type": "stream",
     "text": [
      "Training done under  1.7534246444702148\n"
     ]
    },
    {
     "name": "stderr",
     "output_type": "stream",
     "text": [
      "100%|██████████| 480/480 [00:01<00:00, 326.04it/s]\n",
      "  8%|▊         | 39/480 [00:00<00:01, 388.49it/s]"
     ]
    },
    {
     "name": "stdout",
     "output_type": "stream",
     "text": [
      "Training done under  1.4747915267944336\n"
     ]
    },
    {
     "name": "stderr",
     "output_type": "stream",
     "text": [
      "100%|██████████| 480/480 [00:01<00:00, 314.49it/s]\n",
      "  6%|▋         | 30/480 [00:00<00:01, 293.06it/s]"
     ]
    },
    {
     "name": "stdout",
     "output_type": "stream",
     "text": [
      "Training done under  1.5289945602416992\n"
     ]
    },
    {
     "name": "stderr",
     "output_type": "stream",
     "text": [
      "100%|██████████| 480/480 [00:01<00:00, 288.84it/s]\n",
      "  6%|▌         | 29/480 [00:00<00:01, 288.04it/s]"
     ]
    },
    {
     "name": "stdout",
     "output_type": "stream",
     "text": [
      "Training done under  1.6647248268127441\n"
     ]
    },
    {
     "name": "stderr",
     "output_type": "stream",
     "text": [
      "100%|██████████| 480/480 [00:01<00:00, 289.47it/s]\n",
      "  6%|▋         | 30/480 [00:00<00:01, 291.92it/s]"
     ]
    },
    {
     "name": "stdout",
     "output_type": "stream",
     "text": [
      "Training done under  1.6603293418884277\n"
     ]
    },
    {
     "name": "stderr",
     "output_type": "stream",
     "text": [
      "100%|██████████| 480/480 [00:01<00:00, 345.82it/s]\n",
      "  7%|▋         | 35/480 [00:00<00:01, 349.66it/s]"
     ]
    },
    {
     "name": "stdout",
     "output_type": "stream",
     "text": [
      "Training done under  1.3906540870666504\n"
     ]
    },
    {
     "name": "stderr",
     "output_type": "stream",
     "text": [
      "100%|██████████| 480/480 [00:01<00:00, 374.55it/s]\n",
      "  9%|▊         | 41/480 [00:00<00:01, 408.62it/s]"
     ]
    },
    {
     "name": "stdout",
     "output_type": "stream",
     "text": [
      "Training done under  1.2838711738586426\n"
     ]
    },
    {
     "name": "stderr",
     "output_type": "stream",
     "text": [
      "100%|██████████| 480/480 [00:01<00:00, 363.74it/s]\n",
      "  6%|▋         | 30/480 [00:00<00:01, 292.63it/s]"
     ]
    },
    {
     "name": "stdout",
     "output_type": "stream",
     "text": [
      "Training done under  1.321561336517334\n"
     ]
    },
    {
     "name": "stderr",
     "output_type": "stream",
     "text": [
      "100%|██████████| 480/480 [00:01<00:00, 289.73it/s]\n",
      "  6%|▋         | 30/480 [00:00<00:01, 292.29it/s]"
     ]
    },
    {
     "name": "stdout",
     "output_type": "stream",
     "text": [
      "Training done under  1.6592090129852295\n"
     ]
    },
    {
     "name": "stderr",
     "output_type": "stream",
     "text": [
      "100%|██████████| 480/480 [00:01<00:00, 290.14it/s]\n",
      "  6%|▋         | 30/480 [00:00<00:01, 292.85it/s]"
     ]
    },
    {
     "name": "stdout",
     "output_type": "stream",
     "text": [
      "Training done under  1.6564652919769287\n"
     ]
    },
    {
     "name": "stderr",
     "output_type": "stream",
     "text": [
      "100%|██████████| 480/480 [00:01<00:00, 288.89it/s]\n",
      "  6%|▋         | 30/480 [00:00<00:01, 292.37it/s]"
     ]
    },
    {
     "name": "stdout",
     "output_type": "stream",
     "text": [
      "Training done under  1.6640784740447998\n"
     ]
    },
    {
     "name": "stderr",
     "output_type": "stream",
     "text": [
      "100%|██████████| 480/480 [00:01<00:00, 289.59it/s]\n",
      "  6%|▌         | 28/480 [00:00<00:01, 277.18it/s]"
     ]
    },
    {
     "name": "stdout",
     "output_type": "stream",
     "text": [
      "Training done under  1.6595537662506104\n"
     ]
    },
    {
     "name": "stderr",
     "output_type": "stream",
     "text": [
      "100%|██████████| 480/480 [00:01<00:00, 324.81it/s]\n",
      "  6%|▋         | 30/480 [00:00<00:01, 295.98it/s]"
     ]
    },
    {
     "name": "stdout",
     "output_type": "stream",
     "text": [
      "Training done under  1.4802260398864746\n"
     ]
    },
    {
     "name": "stderr",
     "output_type": "stream",
     "text": [
      "100%|██████████| 480/480 [00:01<00:00, 260.80it/s]\n",
      "  5%|▌         | 25/480 [00:00<00:01, 245.50it/s]"
     ]
    },
    {
     "name": "stdout",
     "output_type": "stream",
     "text": [
      "Training done under  1.8428237438201904\n"
     ]
    },
    {
     "name": "stderr",
     "output_type": "stream",
     "text": [
      "100%|██████████| 480/480 [00:01<00:00, 293.14it/s]\n",
      "  6%|▋         | 30/480 [00:00<00:01, 293.05it/s]"
     ]
    },
    {
     "name": "stdout",
     "output_type": "stream",
     "text": [
      "Training done under  1.6396069526672363\n"
     ]
    },
    {
     "name": "stderr",
     "output_type": "stream",
     "text": [
      "100%|██████████| 480/480 [00:01<00:00, 288.96it/s]\n",
      "  6%|▋         | 30/480 [00:00<00:01, 293.20it/s]"
     ]
    },
    {
     "name": "stdout",
     "output_type": "stream",
     "text": [
      "Training done under  1.665393352508545\n"
     ]
    },
    {
     "name": "stderr",
     "output_type": "stream",
     "text": [
      "100%|██████████| 480/480 [00:01<00:00, 292.28it/s]\n",
      "  6%|▋         | 30/480 [00:00<00:01, 295.13it/s]"
     ]
    },
    {
     "name": "stdout",
     "output_type": "stream",
     "text": [
      "Training done under  1.6448209285736084\n"
     ]
    },
    {
     "name": "stderr",
     "output_type": "stream",
     "text": [
      "100%|██████████| 480/480 [00:01<00:00, 292.68it/s]\n",
      "  6%|▋         | 30/480 [00:00<00:01, 294.36it/s]"
     ]
    },
    {
     "name": "stdout",
     "output_type": "stream",
     "text": [
      "Training done under  1.643270492553711\n"
     ]
    },
    {
     "name": "stderr",
     "output_type": "stream",
     "text": [
      "100%|██████████| 480/480 [00:01<00:00, 296.99it/s]\n",
      "  9%|▉         | 42/480 [00:00<00:01, 410.37it/s]"
     ]
    },
    {
     "name": "stdout",
     "output_type": "stream",
     "text": [
      "Training done under  1.6202876567840576\n"
     ]
    },
    {
     "name": "stderr",
     "output_type": "stream",
     "text": [
      "100%|██████████| 480/480 [00:01<00:00, 354.50it/s]\n",
      "  9%|▊         | 41/480 [00:00<00:01, 409.08it/s]"
     ]
    },
    {
     "name": "stdout",
     "output_type": "stream",
     "text": [
      "Training done under  1.3565151691436768\n"
     ]
    },
    {
     "name": "stderr",
     "output_type": "stream",
     "text": [
      "100%|██████████| 480/480 [00:01<00:00, 328.70it/s]\n",
      "  6%|▋         | 30/480 [00:00<00:01, 292.27it/s]"
     ]
    },
    {
     "name": "stdout",
     "output_type": "stream",
     "text": [
      "Training done under  1.4617643356323242\n"
     ]
    },
    {
     "name": "stderr",
     "output_type": "stream",
     "text": [
      "100%|██████████| 480/480 [00:01<00:00, 290.57it/s]\n",
      "  6%|▋         | 30/480 [00:00<00:01, 292.03it/s]"
     ]
    },
    {
     "name": "stdout",
     "output_type": "stream",
     "text": [
      "Training done under  1.6537165641784668\n"
     ]
    },
    {
     "name": "stderr",
     "output_type": "stream",
     "text": [
      "100%|██████████| 480/480 [00:01<00:00, 363.50it/s]\n",
      "  9%|▊         | 41/480 [00:00<00:01, 402.10it/s]"
     ]
    },
    {
     "name": "stdout",
     "output_type": "stream",
     "text": [
      "Training done under  1.3222079277038574\n"
     ]
    },
    {
     "name": "stderr",
     "output_type": "stream",
     "text": [
      "100%|██████████| 480/480 [00:01<00:00, 364.96it/s]\n",
      "  6%|▋         | 30/480 [00:00<00:01, 295.15it/s]"
     ]
    },
    {
     "name": "stdout",
     "output_type": "stream",
     "text": [
      "Training done under  1.3178369998931885\n"
     ]
    },
    {
     "name": "stderr",
     "output_type": "stream",
     "text": [
      "100%|██████████| 480/480 [00:01<00:00, 328.73it/s]\n",
      "  9%|▊         | 41/480 [00:00<00:01, 400.83it/s]"
     ]
    },
    {
     "name": "stdout",
     "output_type": "stream",
     "text": [
      "Training done under  1.4629018306732178\n"
     ]
    },
    {
     "name": "stderr",
     "output_type": "stream",
     "text": [
      "100%|██████████| 480/480 [00:01<00:00, 387.36it/s]\n",
      "  8%|▊         | 40/480 [00:00<00:01, 397.40it/s]"
     ]
    },
    {
     "name": "stdout",
     "output_type": "stream",
     "text": [
      "Training done under  1.240978717803955\n"
     ]
    },
    {
     "name": "stderr",
     "output_type": "stream",
     "text": [
      "100%|██████████| 480/480 [00:01<00:00, 365.01it/s]\n",
      "  8%|▊         | 37/480 [00:00<00:01, 369.86it/s]"
     ]
    },
    {
     "name": "stdout",
     "output_type": "stream",
     "text": [
      "Training done under  1.3179669380187988\n"
     ]
    },
    {
     "name": "stderr",
     "output_type": "stream",
     "text": [
      "100%|██████████| 480/480 [00:01<00:00, 283.45it/s]\n",
      "  6%|▋         | 30/480 [00:00<00:01, 290.62it/s]"
     ]
    },
    {
     "name": "stdout",
     "output_type": "stream",
     "text": [
      "Training done under  1.698314905166626\n"
     ]
    },
    {
     "name": "stderr",
     "output_type": "stream",
     "text": [
      "100%|██████████| 480/480 [00:01<00:00, 287.31it/s]\n",
      "  4%|▍         | 21/480 [00:00<00:02, 197.35it/s]"
     ]
    },
    {
     "name": "stdout",
     "output_type": "stream",
     "text": [
      "Training done under  1.673614263534546\n"
     ]
    },
    {
     "name": "stderr",
     "output_type": "stream",
     "text": [
      "100%|██████████| 480/480 [00:01<00:00, 269.29it/s]\n",
      "  6%|▋         | 30/480 [00:00<00:01, 292.65it/s]"
     ]
    },
    {
     "name": "stdout",
     "output_type": "stream",
     "text": [
      "Training done under  1.7847352027893066\n"
     ]
    },
    {
     "name": "stderr",
     "output_type": "stream",
     "text": [
      "100%|██████████| 480/480 [00:01<00:00, 291.41it/s]\n",
      "  6%|▋         | 30/480 [00:00<00:01, 294.22it/s]"
     ]
    },
    {
     "name": "stdout",
     "output_type": "stream",
     "text": [
      "Training done under  1.649308204650879\n"
     ]
    },
    {
     "name": "stderr",
     "output_type": "stream",
     "text": [
      "100%|██████████| 480/480 [00:01<00:00, 290.33it/s]\n",
      "  6%|▌         | 29/480 [00:00<00:01, 288.96it/s]"
     ]
    },
    {
     "name": "stdout",
     "output_type": "stream",
     "text": [
      "Training done under  1.6551570892333984\n"
     ]
    },
    {
     "name": "stderr",
     "output_type": "stream",
     "text": [
      "100%|██████████| 480/480 [00:01<00:00, 312.47it/s]\n",
      "  6%|▋         | 30/480 [00:00<00:01, 292.59it/s]"
     ]
    },
    {
     "name": "stdout",
     "output_type": "stream",
     "text": [
      "Training done under  1.5381510257720947\n"
     ]
    },
    {
     "name": "stderr",
     "output_type": "stream",
     "text": [
      "100%|██████████| 480/480 [00:01<00:00, 290.85it/s]\n",
      "  6%|▋         | 30/480 [00:00<00:01, 292.40it/s]"
     ]
    },
    {
     "name": "stdout",
     "output_type": "stream",
     "text": [
      "Training done under  1.6527736186981201\n"
     ]
    },
    {
     "name": "stderr",
     "output_type": "stream",
     "text": [
      "100%|██████████| 480/480 [00:01<00:00, 291.20it/s]\n",
      "  6%|▌         | 29/480 [00:00<00:01, 288.85it/s]"
     ]
    },
    {
     "name": "stdout",
     "output_type": "stream",
     "text": [
      "Training done under  1.6507515907287598\n"
     ]
    },
    {
     "name": "stderr",
     "output_type": "stream",
     "text": [
      "100%|██████████| 480/480 [00:01<00:00, 289.87it/s]"
     ]
    },
    {
     "name": "stdout",
     "output_type": "stream",
     "text": [
      "Training done under  1.6581933498382568\n"
     ]
    },
    {
     "name": "stderr",
     "output_type": "stream",
     "text": [
      "\n"
     ]
    }
   ],
   "source": [
    "temporal_transform = utils.Intensity2Latency(timesteps)\n",
    "\n",
    "### Column Initialization ###\n",
    "\n",
    "MyColumn = Column(num_neurons, threshold, 8, 0)\n",
    "    \n",
    "cat = DatasetContext(cat_context)\n",
    "sit = DatasetContext(sit_context)\n",
    "\n",
    "trainLoader1 = DataLoader(cat, shuffle=True)\n",
    "trainLoader2 = DataLoader(sit, shuffle = True)\n",
    "\n",
    "num_epochs = 20\n",
    "result1 = torch.zeros(num_epochs*(cat.__len__()), num_neurons)\n",
    "result2 = torch.zeros(num_epochs*(sit.__len__()), num_neurons)\n",
    "result3 = torch.zeros(num_epochs*(cat.__len__()), num_neurons)\n",
    "\n",
    "for epochs in range(num_epochs):\n",
    "    start = time.time()\n",
    "    cnt = 0\n",
    "    for data in tqdm(trainLoader1):\n",
    "        for i in range(len(data)):\n",
    "            out = MyColumn(data[i])\n",
    "            result1[epochs*480+i, :] = torch.sum(out.squeeze(),dim=0)\n",
    "            MyColumn.stdp(data[i],out)\n",
    "    end = time.time()\n",
    "    print(\"Training done under \", end-start)\n",
    "\n",
    "for epochs in range(num_epochs):\n",
    "    start = time.time()\n",
    "    cnt = 0\n",
    "    for data in tqdm(trainLoader2):\n",
    "        for i in range(len(data)):\n",
    "            out = MyColumn(data[i])\n",
    "            result2[epochs*480+i, :] = torch.sum(out.squeeze(),dim=0)\n",
    "            MyColumn.stdp(data[i],out)\n",
    "    end = time.time()\n",
    "    print(\"Training done under \", end-start)\n",
    "\n",
    "for epochs in range(num_epochs):\n",
    "    start = time.time()\n",
    "    cnt = 0\n",
    "    for data in tqdm(trainLoader1):\n",
    "        for i in range(len(data)):\n",
    "            out = MyColumn(data[i])\n",
    "            result3[epochs*480+i, :] = torch.sum(out.squeeze(),dim=0)\n",
    "            MyColumn.stdp(data[i],out)\n",
    "    end = time.time()\n",
    "    print(\"Training done under \", end-start)"
   ]
  },
  {
   "cell_type": "code",
   "execution_count": 42,
   "metadata": {},
   "outputs": [
    {
     "name": "stdout",
     "output_type": "stream",
     "text": [
      "(28800, 60)\n"
     ]
    },
    {
     "data": {
      "text/plain": [
       "Text(0.5, 0, 'feature')"
      ]
     },
     "execution_count": 42,
     "metadata": {},
     "output_type": "execute_result"
    },
    {
     "data": {
      "image/png": "[encoded data removed]",
      "text/plain": [
       "<Figure size 720x1440 with 2 Axes>"
      ]
     },
     "metadata": {
      "needs_background": "light"
     },
     "output_type": "display_data"
    }
   ],
   "source": [
    "Z = np.concatenate((result1.numpy(), result2.numpy(), result3.numpy()), axis=0)\n",
    "print(Z.shape)\n",
    "X = np.linspace(0, Z.shape[1],Z.shape[1])\n",
    "Y = np.linspace(0, Z.shape[0],Z.shape[0])\n",
    "X, Y = np.meshgrid(X, Y)\n",
    "\n",
    "plt.figure(figsize = (10,20))\n",
    "\n",
    "plt.contourf(X, Y, Z, [-0.5, 0.5, 1.5, 2.5, 3.5, 4.5], cmap='magma')\n",
    "plt.colorbar(ticks=range(5))\n",
    "plt.ylabel(\"learning\")\n",
    "plt.xlabel(\"feature\")"
   ]
  },
  {
   "cell_type": "code",
   "execution_count": null,
   "metadata": {},
   "outputs": [],
   "source": []
  }
 ],
 "metadata": {
  "hide_input": false,
  "kernelspec": {
   "display_name": "Python 3",
   "language": "python",
   "name": "python3"
  },
  "language_info": {
   "codemirror_mode": {
    "name": "ipython",
    "version": 3
   },
   "file_extension": ".py",
   "mimetype": "text/x-python",
   "name": "python",
   "nbconvert_exporter": "python",
   "pygments_lexer": "ipython3",
   "version": "3.7.6"
  },
  "toc": {
   "base_numbering": 1,
   "nav_menu": {},
   "number_sections": true,
   "sideBar": true,
   "skip_h1_title": false,
   "title_cell": "Table of Contents",
   "title_sidebar": "Contents",
   "toc_cell": false,
   "toc_position": {},
   "toc_section_display": true,
   "toc_window_display": false
  },
  "varInspector": {
   "cols": {
    "lenName": 16,
    "lenType": 16,
    "lenVar": 40
   },
   "kernels_config": {
    "python": {
     "delete_cmd_postfix": "",
     "delete_cmd_prefix": "del ",
     "library": "var_list.py",
     "varRefreshCmd": "print(var_dic_list())"
    },
    "r": {
     "delete_cmd_postfix": ") ",
     "delete_cmd_prefix": "rm(",
     "library": "var_list.r",
     "varRefreshCmd": "cat(var_dic_list()) "
    }
   },
   "types_to_exclude": [
    "module",
    "function",
    "builtin_function_or_method",
    "instance",
    "_Feature"
   ],
   "window_display": false
  }
 },
 "nbformat": 4,
 "nbformat_minor": 4
}
